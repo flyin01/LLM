{
  "nbformat": 4,
  "nbformat_minor": 0,
  "metadata": {
    "colab": {
      "provenance": []
    },
    "kernelspec": {
      "name": "python3",
      "display_name": "Python 3"
    },
    "language_info": {
      "name": "python"
    }
  },
  "cells": [
    {
      "cell_type": "markdown",
      "source": [
        "### V75 text analysis  \n",
        "  \n",
        "This notebook takes as input interviews of the trainers of each V75 race (avd).  \n",
        "  \n",
        "**Input Files**  \n",
        "* Text `.txt` files with interviews."
      ],
      "metadata": {
        "id": "LJ-SYVqu6yU1"
      }
    },
    {
      "cell_type": "code",
      "source": [
        "!python --version"
      ],
      "metadata": {
        "colab": {
          "base_uri": "https://localhost:8080/"
        },
        "id": "BYGBafgYE30x",
        "outputId": "ab74390f-80a5-428c-9a28-fc687036672f"
      },
      "execution_count": 1,
      "outputs": [
        {
          "output_type": "stream",
          "name": "stdout",
          "text": [
            "Python 3.10.12\n"
          ]
        }
      ]
    },
    {
      "cell_type": "code",
      "source": [
        "import nltk\n",
        "nltk.download('vader_lexicon')\n",
        "from nltk.sentiment import SentimentIntensityAnalyzer # English only\n",
        "import numpy as np\n",
        "import pandas as pd\n",
        "import matplotlib.pyplot as plt\n",
        "from google.colab import files\n",
        "import io"
      ],
      "metadata": {
        "colab": {
          "base_uri": "https://localhost:8080/"
        },
        "id": "WqgqbIe-E874",
        "outputId": "aee9cfc2-2939-464f-fa31-a1592e7a5672"
      },
      "execution_count": 2,
      "outputs": [
        {
          "output_type": "stream",
          "name": "stderr",
          "text": [
            "[nltk_data] Downloading package vader_lexicon to /root/nltk_data...\n"
          ]
        }
      ]
    },
    {
      "cell_type": "code",
      "source": [
        "# select file to upload\n",
        "uploaded = files.upload()"
      ],
      "metadata": {
        "colab": {
          "base_uri": "https://localhost:8080/",
          "height": 73
        },
        "id": "n5JZacl6FY2I",
        "outputId": "dcc82bd0-732c-408d-824a-68464a7a5fd0"
      },
      "execution_count": 4,
      "outputs": [
        {
          "output_type": "display_data",
          "data": {
            "text/plain": [
              "<IPython.core.display.HTML object>"
            ],
            "text/html": [
              "\n",
              "     <input type=\"file\" id=\"files-8c4433c7-c450-4e22-91ec-cb9fb2f0f550\" name=\"files[]\" multiple disabled\n",
              "        style=\"border:none\" />\n",
              "     <output id=\"result-8c4433c7-c450-4e22-91ec-cb9fb2f0f550\">\n",
              "      Upload widget is only available when the cell has been executed in the\n",
              "      current browser session. Please rerun this cell to enable.\n",
              "      </output>\n",
              "      <script>// Copyright 2017 Google LLC\n",
              "//\n",
              "// Licensed under the Apache License, Version 2.0 (the \"License\");\n",
              "// you may not use this file except in compliance with the License.\n",
              "// You may obtain a copy of the License at\n",
              "//\n",
              "//      http://www.apache.org/licenses/LICENSE-2.0\n",
              "//\n",
              "// Unless required by applicable law or agreed to in writing, software\n",
              "// distributed under the License is distributed on an \"AS IS\" BASIS,\n",
              "// WITHOUT WARRANTIES OR CONDITIONS OF ANY KIND, either express or implied.\n",
              "// See the License for the specific language governing permissions and\n",
              "// limitations under the License.\n",
              "\n",
              "/**\n",
              " * @fileoverview Helpers for google.colab Python module.\n",
              " */\n",
              "(function(scope) {\n",
              "function span(text, styleAttributes = {}) {\n",
              "  const element = document.createElement('span');\n",
              "  element.textContent = text;\n",
              "  for (const key of Object.keys(styleAttributes)) {\n",
              "    element.style[key] = styleAttributes[key];\n",
              "  }\n",
              "  return element;\n",
              "}\n",
              "\n",
              "// Max number of bytes which will be uploaded at a time.\n",
              "const MAX_PAYLOAD_SIZE = 100 * 1024;\n",
              "\n",
              "function _uploadFiles(inputId, outputId) {\n",
              "  const steps = uploadFilesStep(inputId, outputId);\n",
              "  const outputElement = document.getElementById(outputId);\n",
              "  // Cache steps on the outputElement to make it available for the next call\n",
              "  // to uploadFilesContinue from Python.\n",
              "  outputElement.steps = steps;\n",
              "\n",
              "  return _uploadFilesContinue(outputId);\n",
              "}\n",
              "\n",
              "// This is roughly an async generator (not supported in the browser yet),\n",
              "// where there are multiple asynchronous steps and the Python side is going\n",
              "// to poll for completion of each step.\n",
              "// This uses a Promise to block the python side on completion of each step,\n",
              "// then passes the result of the previous step as the input to the next step.\n",
              "function _uploadFilesContinue(outputId) {\n",
              "  const outputElement = document.getElementById(outputId);\n",
              "  const steps = outputElement.steps;\n",
              "\n",
              "  const next = steps.next(outputElement.lastPromiseValue);\n",
              "  return Promise.resolve(next.value.promise).then((value) => {\n",
              "    // Cache the last promise value to make it available to the next\n",
              "    // step of the generator.\n",
              "    outputElement.lastPromiseValue = value;\n",
              "    return next.value.response;\n",
              "  });\n",
              "}\n",
              "\n",
              "/**\n",
              " * Generator function which is called between each async step of the upload\n",
              " * process.\n",
              " * @param {string} inputId Element ID of the input file picker element.\n",
              " * @param {string} outputId Element ID of the output display.\n",
              " * @return {!Iterable<!Object>} Iterable of next steps.\n",
              " */\n",
              "function* uploadFilesStep(inputId, outputId) {\n",
              "  const inputElement = document.getElementById(inputId);\n",
              "  inputElement.disabled = false;\n",
              "\n",
              "  const outputElement = document.getElementById(outputId);\n",
              "  outputElement.innerHTML = '';\n",
              "\n",
              "  const pickedPromise = new Promise((resolve) => {\n",
              "    inputElement.addEventListener('change', (e) => {\n",
              "      resolve(e.target.files);\n",
              "    });\n",
              "  });\n",
              "\n",
              "  const cancel = document.createElement('button');\n",
              "  inputElement.parentElement.appendChild(cancel);\n",
              "  cancel.textContent = 'Cancel upload';\n",
              "  const cancelPromise = new Promise((resolve) => {\n",
              "    cancel.onclick = () => {\n",
              "      resolve(null);\n",
              "    };\n",
              "  });\n",
              "\n",
              "  // Wait for the user to pick the files.\n",
              "  const files = yield {\n",
              "    promise: Promise.race([pickedPromise, cancelPromise]),\n",
              "    response: {\n",
              "      action: 'starting',\n",
              "    }\n",
              "  };\n",
              "\n",
              "  cancel.remove();\n",
              "\n",
              "  // Disable the input element since further picks are not allowed.\n",
              "  inputElement.disabled = true;\n",
              "\n",
              "  if (!files) {\n",
              "    return {\n",
              "      response: {\n",
              "        action: 'complete',\n",
              "      }\n",
              "    };\n",
              "  }\n",
              "\n",
              "  for (const file of files) {\n",
              "    const li = document.createElement('li');\n",
              "    li.append(span(file.name, {fontWeight: 'bold'}));\n",
              "    li.append(span(\n",
              "        `(${file.type || 'n/a'}) - ${file.size} bytes, ` +\n",
              "        `last modified: ${\n",
              "            file.lastModifiedDate ? file.lastModifiedDate.toLocaleDateString() :\n",
              "                                    'n/a'} - `));\n",
              "    const percent = span('0% done');\n",
              "    li.appendChild(percent);\n",
              "\n",
              "    outputElement.appendChild(li);\n",
              "\n",
              "    const fileDataPromise = new Promise((resolve) => {\n",
              "      const reader = new FileReader();\n",
              "      reader.onload = (e) => {\n",
              "        resolve(e.target.result);\n",
              "      };\n",
              "      reader.readAsArrayBuffer(file);\n",
              "    });\n",
              "    // Wait for the data to be ready.\n",
              "    let fileData = yield {\n",
              "      promise: fileDataPromise,\n",
              "      response: {\n",
              "        action: 'continue',\n",
              "      }\n",
              "    };\n",
              "\n",
              "    // Use a chunked sending to avoid message size limits. See b/62115660.\n",
              "    let position = 0;\n",
              "    do {\n",
              "      const length = Math.min(fileData.byteLength - position, MAX_PAYLOAD_SIZE);\n",
              "      const chunk = new Uint8Array(fileData, position, length);\n",
              "      position += length;\n",
              "\n",
              "      const base64 = btoa(String.fromCharCode.apply(null, chunk));\n",
              "      yield {\n",
              "        response: {\n",
              "          action: 'append',\n",
              "          file: file.name,\n",
              "          data: base64,\n",
              "        },\n",
              "      };\n",
              "\n",
              "      let percentDone = fileData.byteLength === 0 ?\n",
              "          100 :\n",
              "          Math.round((position / fileData.byteLength) * 100);\n",
              "      percent.textContent = `${percentDone}% done`;\n",
              "\n",
              "    } while (position < fileData.byteLength);\n",
              "  }\n",
              "\n",
              "  // All done.\n",
              "  yield {\n",
              "    response: {\n",
              "      action: 'complete',\n",
              "    }\n",
              "  };\n",
              "}\n",
              "\n",
              "scope.google = scope.google || {};\n",
              "scope.google.colab = scope.google.colab || {};\n",
              "scope.google.colab._files = {\n",
              "  _uploadFiles,\n",
              "  _uploadFilesContinue,\n",
              "};\n",
              "})(self);\n",
              "</script> "
            ]
          },
          "metadata": {}
        },
        {
          "output_type": "stream",
          "name": "stdout",
          "text": [
            "Saving 20230617_V75_1.txt to 20230617_V75_1.txt\n"
          ]
        }
      ]
    },
    {
      "cell_type": "code",
      "source": [
        "# check file\n",
        "file_name = list(uploaded.keys())[0]\n",
        "print(file_name)\n",
        "print(uploaded['20230617_V75_1.txt'][0:50])\n",
        "# Use utf-8 character encoding to maintain proper characters\n",
        "text = uploaded[file_name].decode('utf-8')\n",
        "print(text[0:50])"
      ],
      "metadata": {
        "colab": {
          "base_uri": "https://localhost:8080/"
        },
        "id": "4I8utQjrF3Hw",
        "outputId": "c1a1d9c2-9124-424d-aa41-e2b55dbb1c49"
      },
      "execution_count": 8,
      "outputs": [
        {
          "output_type": "stream",
          "name": "stdout",
          "text": [
            "20230617_V75_1.txt\n",
            "b'INTERVJUER V75-1 \\r\\n\\r\\nTycker han \\xc3\\xa4r b\\xc3\\xa4ttre i rygg'\n",
            "INTERVJUER V75-1 \r\n",
            "\r\n",
            "Tycker han är bättre i ryggar\n"
          ]
        }
      ]
    },
    {
      "cell_type": "code",
      "source": [
        "print(len(text))\n",
        "text"
      ],
      "metadata": {
        "id": "sr1ayCDuGNVQ",
        "colab": {
          "base_uri": "https://localhost:8080/",
          "height": 209
        },
        "outputId": "f0df0c03-f8e7-4324-a1eb-0024cabf2fac"
      },
      "execution_count": 10,
      "outputs": [
        {
          "output_type": "stream",
          "name": "stdout",
          "text": [
            "6677\n"
          ]
        },
        {
          "output_type": "execute_result",
          "data": {
            "text/plain": [
              "'INTERVJUER V75-1 \\r\\n\\r\\nTycker han är bättre i ryggar\\r\\n1. BORUPS UMAMI - MALIN ÅBERG: Han har varit jättefin i de två senaste starterna och efter den senaste starten tog vi sikte mot det här loppet. Formen är bra och han har tränat på fint efter senaste starten. Han är startsnabb men det blir nog svårt att hålla upp ledningen och jag tycker han är bättre i ryggar men taktiken är upp till kusken. Distansen är \"hans\" distans och jag har goda förhoppningar om en framskjuten placering. Nu blir det första jänkarvagn sedan han kom till mig, annars fortsatt barfota runt om, norskt huvudlag och rycktussar.\\r\\n\\r\\nVår bästa chans inom V75\\r\\n2. GLOBAL DASH - OSKAR FLORHED: Han blir bara bättre och bättre och fortsätter att leverera varje gång. Vi trodde kanske att det skulle ta lite stopp för honom men han har verkligen gjort det bra hela året. Han åtgärdades lite efter senaste loppet och sedan har han siktats mot det här loppet. Han är inte vässad utan har gått sina normala jobb och känns fortsatt fin. Han har gått bra för Mats, har ett bra läge, är snabb ut och trivs i i spets så plan A är att komma till spets och köra där. Jag tycker att det ser ut som en bra chans och vår bästa inom V75. Barfota runt om, vanlig vagn, helstängt huvudlag och rycktussar som senast.\\r\\n\\r\\nÄr bra igång\\r\\n3. GLOBAL ATTENTION - JÖRGEN WESTHOLM: Han har fått ett fint läge eftersom han är snabb den första biten. Han får nu prova framåt och skulle han nå ledningen, där han trivs bäst, så stiger hans mö- jligheter. Han är bra igång så i kraft av utgångsläget tycker jag absolut att han är streckvärd. Han kommer att gå i en jänkarvagn, utan skor och har ett norskt huvudlag.\\r\\n\\r\\nHårdhet från tuffa årgångslopp\\r\\n4. JOY SISU PETRI SALMELA: Hon har haft form de senaste två månaderna men det har verkligen varit stolpe ut för henne men man tror ju att det vänder snart. Jag ville inte ta ut henne i fyraåring- sloppet men nu när det är fördel ston här i brons så provar vi och hon har ju hårdhet från att ha tävlat i tuffa årgångslopp. Nu måste hon springa fort hela vägen, så här kanske hon behöver få det lite mer serverat men hårt tempo skulle passa henne. Det blir barfota runt om nu men fortsatt norskt huvud- lag och en jankarvagn.\\r\\n\\r\\nÄr hans bästa distans\\r\\n5. MELLBY JOKER - OSKAR FLORHED: Han var struken för en liten febersläng för några veckor sedan men det var ingen fara utan han har återhämtat sig snabbt och ser ut som han ska i träningen. Han har inte gjort så många starter på kort distans men jag tycker faktiskt att det är hans bästa distans och detta för att han hänger på en töm i svängarna. Det är egentligen otroligt att han vunnit två lopp på 2640 på sistone. Nu är det bara tre svängar och det är ett plus. Han kan öppna men är inget spetsbud med Global Dash invändigt. Han får smyga med och kanske kan vara fyra, femma. Barfota runt om, vanlig vagn och öppet huvudlag som senast.\\r\\n\\r\\nÄr kraftigt på gång\\r\\n6. ILLFINDMYWAYHOME - DANIEL REDÉN: Han är kraftigt på gång, man får inte stirra sig blind på hans rad. Han gick ett jäkligt bra lopp bakom Felicia senast, det gick ju sakta och han fick gå i spåren. Han spurtade bra även gången innan. Det har gått några veckor sedan senast och han tränar jättebra. Det är hans distans och läget passar bra. Han kan springa fort om han har en bra dag. Det blir inga ändringar.\\r\\n\\r\\nÄr pigg, glad och lite snärtigare \\r\\n7. RARE MAGIC - JONAS EDLUND: Var jag lite besviken på direkt efteråt senast men han höll på att fela efter start och slog sig på knät, sedan blev det inte optimalt då det inte blev något tempo på loppet. Han har tagit loppet bra och är pigg, glad och lite snärtig- are. Det blev inget drömspår men han kan öppna bra och har vi lite tur så kan han hitta en bra position. Distansen är en fördel och det ska bli kul att se vad han kan åstadkomma. Han kommer lättas rejält fram, annars fortsatt open eye huvudlag, rycktussar och vanlig vagn.\\r\\n\\r\\nFormen ska vara likvärdig\\r\\n8. MAYBACH W.F. - MADELENE WIKSTÉN: Vi fick stryka honom till finalen senast och han missade lite och fick inga hårda jobb så halsen fick ta igen sig. Han fick gå lugnt i skogen och nu är jag nöjd med honom i jobben och formen ska vara likvärdig som vid vinsterna. Däremot blev läget ruttet vilket var tråkigt. Han kan öppna rätt bra och distansen har han alltid gått bra på. Han står sig bra i klassen men från det här läget krävs det en hel del tur. Fortsatt barfota runt om, helstängt huvudlag, rycktussar och vanlig vagn.\\r\\n\\r\\nNöjd med läget\\r\\n9. ROLLER COASTER ÅS - CHRISTIAN MANSSON: Han gjorde flera bra lopp förra hösten. Sedan bestäm- de vi oss för att ge honom lite vila och vinterträning och nu har han efter det varit väldigt svår att få igång. Han hade gått något 1.15-jobb inför loppet sen- ast och var väl inte trött när galoppen kom, men jag tyckte inte han var med på noterna alls på något sätt och helt klart är han svårbedömd. Jag är nöjd med läget den här gången och vi får se hur långt det kan räcka helt enkelt. Som senast barfota fram, helstängt huvudlag och vanlig vagn.\\r\\n\\r\\nInte på topp ännu\\r\\n10. JUST A FLIRT - JASMIINA AHO: Han blev skadad i ett ben i fjol och fick en paus och sedan har han haft allergi och det har varit en del problem. Han har nu gjort tre starter i följd och blir allt bättre, men är kanske inte på topp ännu. Han gick med huva för tre starter sedan, men har varit ovanligt lugn och jag tror att det blir bomull i öronen i Boden. Hade han fätt framspår hade det blivit helstängt huvudlag, men med bakspår troligen öppet huvudlag för att han ska vara lugn. Han går med skor och kommer till Boden på lördag och resan är 53 mil lång, men det ska inte vara några problem då han startat i Boden tidigare.\\r\\n\\r\\nÄndringarna slog väldigt väl ut\\r\\n11. MARLON BOKO - OSKAR FLORHED: Han var jättebra i lördags då han fullföljde starkt ända in i mål. Han brukar inte tåla att gå så tidigt utan rygg men nu gick han väldigt bra. Det var första gången barfota runt om och med jänkarvagn och även med helstängt huvudlag och allt slog väldigt väl ut. Det blir samma utrustning som då. Det är svårt att veta hur han han- terar att starta vecka/vecka. Men han känns bortlottad nu med spår elva över 1640 och det blir nog svårt för honom att komma till.\\r\\n\\r\\nKänns och ser dunderfin ut\\r\\n12. MY NAME IS PRINCE - TRINE HANSEN: Var jag nöjd med senast då han stod för en vass avslutning. Han känns och ser dunderfin ut så det ser ut som han vaknat till på allvar. Formen är väldigt uppåt men tyvärr blev läget helt iskallt. Vi får hoppas på att det blir rejält tempo då kan hans fina avslutning bita bra men vi får hoppas på pengar. Vi får se om vi rycker skorna nu när läget blev dåligt, annars fortsatt norskt huvudlag och jänkarvagn.'"
            ],
            "application/vnd.google.colaboratory.intrinsic+json": {
              "type": "string"
            }
          },
          "metadata": {},
          "execution_count": 10
        }
      ]
    }
  ]
}