{
  "nbformat": 4,
  "nbformat_minor": 0,
  "metadata": {
    "colab": {
      "provenance": []
    },
    "kernelspec": {
      "name": "python3",
      "display_name": "Python 3"
    },
    "language_info": {
      "name": "python"
    }
  },
  "cells": [
    {
      "cell_type": "markdown",
      "source": [
        "# ChatGPT Prompt Engineering for Developers.  \n",
        "  \n",
        "...\n",
        "  \n",
        "##Content\n",
        "1. [Introduction](https://learn.deeplearning.ai/courses/chatgpt-prompt-eng/lesson/1/introduction)\n",
        "\n"
      ],
      "metadata": {
        "id": "T7FjYQ8vbx1C"
      }
    }
  ]
}