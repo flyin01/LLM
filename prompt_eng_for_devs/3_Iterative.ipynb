{
  "nbformat": 4,
  "nbformat_minor": 0,
  "metadata": {
    "colab": {
      "provenance": []
    },
    "kernelspec": {
      "name": "python3",
      "display_name": "Python 3"
    },
    "language_info": {
      "name": "python"
    }
  },
  "cells": [
    {
      "cell_type": "markdown",
      "source": [
        "# ChatGPT Prompt Engineering for Developers.  \n",
        "  \n",
        "...\n",
        "  \n",
        "##Content\n",
        "1. [Introduction](https://learn.deeplearning.ai/courses/chatgpt-prompt-eng/lesson/1/introduction)\n",
        "2. Guidelines for Prompting\n",
        "3. **Iterative Prompt Development**"
      ],
      "metadata": {
        "id": "dW2LssxoXMG1"
      }
    },
    {
      "cell_type": "markdown",
      "source": [
        "##3. Iterative Prompt Development  \n",
        "We will iteratively analyze and refine the prompts to generate marketing copy from a product fact sheet."
      ],
      "metadata": {
        "id": "ZmgBurF4Xjhs"
      }
    },
    {
      "cell_type": "code",
      "source": [
        "!pip install openai"
      ],
      "metadata": {
        "colab": {
          "base_uri": "https://localhost:8080/"
        },
        "id": "wxauK_PbXgbt",
        "outputId": "5ee78cb2-49a8-4743-89ed-bc78a494a45a"
      },
      "execution_count": 1,
      "outputs": [
        {
          "output_type": "stream",
          "name": "stdout",
          "text": [
            "Collecting openai\n",
            "  Downloading openai-1.51.2-py3-none-any.whl.metadata (24 kB)\n",
            "Requirement already satisfied: anyio<5,>=3.5.0 in /usr/local/lib/python3.10/dist-packages (from openai) (3.7.1)\n",
            "Requirement already satisfied: distro<2,>=1.7.0 in /usr/lib/python3/dist-packages (from openai) (1.7.0)\n",
            "Collecting httpx<1,>=0.23.0 (from openai)\n",
            "  Downloading httpx-0.27.2-py3-none-any.whl.metadata (7.1 kB)\n",
            "Collecting jiter<1,>=0.4.0 (from openai)\n",
            "  Downloading jiter-0.6.1-cp310-cp310-manylinux_2_17_x86_64.manylinux2014_x86_64.whl.metadata (5.2 kB)\n",
            "Requirement already satisfied: pydantic<3,>=1.9.0 in /usr/local/lib/python3.10/dist-packages (from openai) (2.9.2)\n",
            "Requirement already satisfied: sniffio in /usr/local/lib/python3.10/dist-packages (from openai) (1.3.1)\n",
            "Requirement already satisfied: tqdm>4 in /usr/local/lib/python3.10/dist-packages (from openai) (4.66.5)\n",
            "Requirement already satisfied: typing-extensions<5,>=4.11 in /usr/local/lib/python3.10/dist-packages (from openai) (4.12.2)\n",
            "Requirement already satisfied: idna>=2.8 in /usr/local/lib/python3.10/dist-packages (from anyio<5,>=3.5.0->openai) (3.10)\n",
            "Requirement already satisfied: exceptiongroup in /usr/local/lib/python3.10/dist-packages (from anyio<5,>=3.5.0->openai) (1.2.2)\n",
            "Requirement already satisfied: certifi in /usr/local/lib/python3.10/dist-packages (from httpx<1,>=0.23.0->openai) (2024.8.30)\n",
            "Collecting httpcore==1.* (from httpx<1,>=0.23.0->openai)\n",
            "  Downloading httpcore-1.0.6-py3-none-any.whl.metadata (21 kB)\n",
            "Collecting h11<0.15,>=0.13 (from httpcore==1.*->httpx<1,>=0.23.0->openai)\n",
            "  Downloading h11-0.14.0-py3-none-any.whl.metadata (8.2 kB)\n",
            "Requirement already satisfied: annotated-types>=0.6.0 in /usr/local/lib/python3.10/dist-packages (from pydantic<3,>=1.9.0->openai) (0.7.0)\n",
            "Requirement already satisfied: pydantic-core==2.23.4 in /usr/local/lib/python3.10/dist-packages (from pydantic<3,>=1.9.0->openai) (2.23.4)\n",
            "Downloading openai-1.51.2-py3-none-any.whl (383 kB)\n",
            "\u001b[2K   \u001b[90m━━━━━━━━━━━━━━━━━━━━━━━━━━━━━━━━━━━━━━━━\u001b[0m \u001b[32m383.7/383.7 kB\u001b[0m \u001b[31m8.7 MB/s\u001b[0m eta \u001b[36m0:00:00\u001b[0m\n",
            "\u001b[?25hDownloading httpx-0.27.2-py3-none-any.whl (76 kB)\n",
            "\u001b[2K   \u001b[90m━━━━━━━━━━━━━━━━━━━━━━━━━━━━━━━━━━━━━━━━\u001b[0m \u001b[32m76.4/76.4 kB\u001b[0m \u001b[31m4.5 MB/s\u001b[0m eta \u001b[36m0:00:00\u001b[0m\n",
            "\u001b[?25hDownloading httpcore-1.0.6-py3-none-any.whl (78 kB)\n",
            "\u001b[2K   \u001b[90m━━━━━━━━━━━━━━━━━━━━━━━━━━━━━━━━━━━━━━━━\u001b[0m \u001b[32m78.0/78.0 kB\u001b[0m \u001b[31m2.8 MB/s\u001b[0m eta \u001b[36m0:00:00\u001b[0m\n",
            "\u001b[?25hDownloading jiter-0.6.1-cp310-cp310-manylinux_2_17_x86_64.manylinux2014_x86_64.whl (325 kB)\n",
            "\u001b[2K   \u001b[90m━━━━━━━━━━━━━━━━━━━━━━━━━━━━━━━━━━━━━━━━\u001b[0m \u001b[32m325.2/325.2 kB\u001b[0m \u001b[31m12.4 MB/s\u001b[0m eta \u001b[36m0:00:00\u001b[0m\n",
            "\u001b[?25hDownloading h11-0.14.0-py3-none-any.whl (58 kB)\n",
            "\u001b[2K   \u001b[90m━━━━━━━━━━━━━━━━━━━━━━━━━━━━━━━━━━━━━━━━\u001b[0m \u001b[32m58.3/58.3 kB\u001b[0m \u001b[31m3.3 MB/s\u001b[0m eta \u001b[36m0:00:00\u001b[0m\n",
            "\u001b[?25hInstalling collected packages: jiter, h11, httpcore, httpx, openai\n",
            "Successfully installed h11-0.14.0 httpcore-1.0.6 httpx-0.27.2 jiter-0.6.1 openai-1.51.2\n"
          ]
        }
      ]
    },
    {
      "cell_type": "code",
      "source": [
        "# import libraries and set api key\n",
        "\n",
        "import openai\n",
        "import os\n",
        "\n",
        "os.environ['OPENAI_API_KEY'] = \"sk-\" # Replace ... with your key and set as os variable"
      ],
      "metadata": {
        "id": "8lXP4qR4XpuU"
      },
      "execution_count": 2,
      "outputs": []
    },
    {
      "cell_type": "code",
      "source": [
        "openai.api_key = os.getenv('OPENAI_API_KEY')"
      ],
      "metadata": {
        "id": "o0psH0qDXpkc"
      },
      "execution_count": 3,
      "outputs": []
    },
    {
      "cell_type": "code",
      "source": [
        "print(openai.__version__)"
      ],
      "metadata": {
        "colab": {
          "base_uri": "https://localhost:8080/"
        },
        "id": "oKUTEk6aXub8",
        "outputId": "bbb0eb06-77af-4316-f9ac-513ad4b1912d"
      },
      "execution_count": 4,
      "outputs": [
        {
          "output_type": "stream",
          "name": "stdout",
          "text": [
            "1.51.2\n"
          ]
        }
      ]
    },
    {
      "cell_type": "code",
      "source": [
        "# create helper function to use propmpts and observer the generated output.\n",
        "client = openai.OpenAI()\n",
        "\n",
        "def get_completion(prompt, model=\"gpt-3.5-turbo\"):\n",
        "    messages = [{\"role\": \"user\", \"content\": prompt}]\n",
        "    response = client.chat.completions.create(\n",
        "        model=model,\n",
        "        messages=messages,\n",
        "        temperature=0\n",
        "    )\n",
        "    return response.choices[0].message.content"
      ],
      "metadata": {
        "id": "-tGQmSrrXuYM"
      },
      "execution_count": 5,
      "outputs": []
    },
    {
      "cell_type": "markdown",
      "source": [
        "###**Generate a marketing product description from a product fact sheet**  \n"
      ],
      "metadata": {
        "id": "RVpWVqGsYNDk"
      }
    },
    {
      "cell_type": "code",
      "source": [
        "fact_sheet_chair = \"\"\"\n",
        "OVERVIEW\n",
        "- Part of a beautiful family of mid-century inspired office furniture,\n",
        "including filing cabinets, desks, bookcases, meeting tables, and more.\n",
        "- Several options of shell color and base finishes.\n",
        "- Available with plastic back and front upholstery (SWC-100)\n",
        "or full upholstery (SWC-110) in 10 fabric and 6 leather options.\n",
        "- Base finish options are: stainless steel, matte black,\n",
        "gloss white, or chrome.\n",
        "- Chair is available with or without armrests.\n",
        "- Suitable for home or business settings.\n",
        "- Qualified for contract use.\n",
        "\n",
        "CONSTRUCTION\n",
        "- 5-wheel plastic coated aluminum base.\n",
        "- Pneumatic chair adjust for easy raise/lower action.\n",
        "\n",
        "DIMENSIONS\n",
        "- WIDTH 53 CM | 20.87”\n",
        "- DEPTH 51 CM | 20.08”\n",
        "- HEIGHT 80 CM | 31.50”\n",
        "- SEAT HEIGHT 44 CM | 17.32”\n",
        "- SEAT DEPTH 41 CM | 16.14”\n",
        "\n",
        "OPTIONS\n",
        "- Soft or hard-floor caster options.\n",
        "- Two choices of seat foam densities:\n",
        " medium (1.8 lb/ft3) or high (2.8 lb/ft3)\n",
        "- Armless or 8 position PU armrests\n",
        "\n",
        "MATERIALS\n",
        "SHELL BASE GLIDER\n",
        "- Cast Aluminum with modified nylon PA6/PA66 coating.\n",
        "- Shell thickness: 10 mm.\n",
        "SEAT\n",
        "- HD36 foam\n",
        "\n",
        "COUNTRY OF ORIGIN\n",
        "- Italy\n",
        "\"\"\""
      ],
      "metadata": {
        "id": "JgyYNrfkZAVE"
      },
      "execution_count": 6,
      "outputs": []
    },
    {
      "cell_type": "code",
      "source": [
        "prompt = f\"\"\"\n",
        "Your task is to help a marketing team create a\n",
        "description for a retail website of a product based\n",
        "on a technical fact sheet.\n",
        "\n",
        "Write a product description based on the information\n",
        "provided in the technical specifications delimited by\n",
        "triple backticks.\n",
        "\n",
        "Technical specifications: ```{fact_sheet_chair}```\n",
        "\"\"\"\n",
        "response = get_completion(prompt)\n",
        "print(response)"
      ],
      "metadata": {
        "colab": {
          "base_uri": "https://localhost:8080/"
        },
        "id": "maB5BJtJZJOj",
        "outputId": "59305e2d-e9b3-4762-8201-f011f26499e9"
      },
      "execution_count": 7,
      "outputs": [
        {
          "output_type": "stream",
          "name": "stdout",
          "text": [
            "Introducing our sleek and stylish mid-century inspired office chair, perfect for both home and business settings. This chair is part of a beautiful family of office furniture that includes filing cabinets, desks, bookcases, meeting tables, and more.\n",
            "\n",
            "Customize your chair with several options of shell color and base finishes to match your decor. Choose between plastic back and front upholstery or full upholstery in a variety of fabric and leather options. The base finish options include stainless steel, matte black, gloss white, or chrome. You can also choose to have armrests or go without.\n",
            "\n",
            "Constructed with a 5-wheel plastic coated aluminum base, this chair features a pneumatic adjust for easy raise/lower action. The dimensions of the chair are as follows: width 53 cm, depth 51 cm, height 80 cm, seat height 44 cm, and seat depth 41 cm.\n",
            "\n",
            "Personalize your chair further with options such as soft or hard-floor caster options, two choices of seat foam densities (medium or high), and armless or 8 position PU armrests.\n",
            "\n",
            "Made with high-quality materials, the shell base glider is constructed with cast aluminum with modified nylon PA6/PA66 coating and a shell thickness of 10 mm. The seat is made with HD36 foam.\n",
            "\n",
            "This stylish and functional chair is designed and made in Italy, ensuring quality and craftsmanship. Elevate your workspace with our mid-century inspired office chair today!\n"
          ]
        }
      ]
    },
    {
      "cell_type": "code",
      "source": [
        "len(response.split (\" \"))"
      ],
      "metadata": {
        "colab": {
          "base_uri": "https://localhost:8080/"
        },
        "id": "JTPNoSxOZkPj",
        "outputId": "313beb5e-0128-4109-eb9f-f8636f675e67"
      },
      "execution_count": 8,
      "outputs": [
        {
          "output_type": "execute_result",
          "data": {
            "text/plain": [
              "219"
            ]
          },
          "metadata": {},
          "execution_count": 8
        }
      ]
    },
    {
      "cell_type": "markdown",
      "source": [
        "**Issue 1: The text is too long**    \n",
        "List the number of words/sentences/characters"
      ],
      "metadata": {
        "id": "DF5GrBdNZWJT"
      }
    },
    {
      "cell_type": "code",
      "source": [
        "prompt = f\"\"\"\n",
        "Your task is to help a marketing team create a\n",
        "description for a retail website of a product based\n",
        "on a technical fact sheet.\n",
        "\n",
        "Write a product description based on the information\n",
        "provided in the technical specifications delimited by\n",
        "triple backticks.\n",
        "\n",
        "Use at most 50 words.\n",
        "\n",
        "Technical specifications: ```{fact_sheet_chair}```\n",
        "\"\"\"\n",
        "response = get_completion(prompt)\n",
        "print(response)\n"
      ],
      "metadata": {
        "colab": {
          "base_uri": "https://localhost:8080/"
        },
        "id": "usF8TrHgZf0a",
        "outputId": "da234e8e-42be-4e35-e8da-eeb663d21067"
      },
      "execution_count": 9,
      "outputs": [
        {
          "output_type": "stream",
          "name": "stdout",
          "text": [
            "Introducing our versatile and stylish mid-century office chair, available in a range of colors and finishes. With adjustable height and comfortable upholstery options, this chair is perfect for both home and business use. Made in Italy with quality materials, it's a perfect blend of form and function.\n"
          ]
        }
      ]
    },
    {
      "cell_type": "code",
      "source": [
        "len(response.split (\" \"))"
      ],
      "metadata": {
        "colab": {
          "base_uri": "https://localhost:8080/"
        },
        "id": "iDOhd7LCZsiq",
        "outputId": "2c769839-6e5c-4230-fba8-a8abd1258b8c"
      },
      "execution_count": 10,
      "outputs": [
        {
          "output_type": "execute_result",
          "data": {
            "text/plain": [
              "47"
            ]
          },
          "metadata": {},
          "execution_count": 10
        }
      ]
    },
    {
      "cell_type": "markdown",
      "source": [
        "**Issue 2: Text focus is on the wrong details**    \n",
        "Ask model to focus on the aspects that are relevant to the intended audience."
      ],
      "metadata": {
        "id": "-eaN9gseZxKb"
      }
    },
    {
      "cell_type": "code",
      "source": [
        "prompt = f\"\"\"\n",
        "Your task is to help a marketing team create a\n",
        "description for a retail website of a product based\n",
        "on a technical fact sheet.\n",
        "\n",
        "Write a product description based on the information\n",
        "provided in the technical specifications delimited by\n",
        "triple backticks.\n",
        "\n",
        "The description is intended for furniture retailers,\n",
        "so should be technical in nature and focus on the\n",
        "materials the product is constructed from.\n",
        "\n",
        "Use at most 50 words.\n",
        "\n",
        "Technical specifications: ```{fact_sheet_chair}```\n",
        "\"\"\"\n",
        "response = get_completion(prompt)\n",
        "print(response)"
      ],
      "metadata": {
        "colab": {
          "base_uri": "https://localhost:8080/"
        },
        "id": "g5ekB50-Z6Pz",
        "outputId": "66d45b19-2c7d-472a-c431-1e2ef8b64696"
      },
      "execution_count": 11,
      "outputs": [
        {
          "output_type": "stream",
          "name": "stdout",
          "text": [
            "Introducing our versatile and stylish office chair, part of a mid-century inspired furniture collection. Constructed with a durable cast aluminum shell and base glider coated with modified nylon, this chair offers comfort with HD36 foam seating. Available in various colors and finishes, suitable for both home and business use. Made in Italy.\n"
          ]
        }
      ]
    },
    {
      "cell_type": "code",
      "source": [
        "prompt = f\"\"\"\n",
        "Your task is to help a marketing team create a\n",
        "description for a retail website of a product based\n",
        "on a technical fact sheet.\n",
        "\n",
        "Write a product description based on the information\n",
        "provided in the technical specifications delimited by\n",
        "triple backticks.\n",
        "\n",
        "The description is intended for furniture retailers,\n",
        "so should be technical in nature and focus on the\n",
        "materials the product is constructed from.\n",
        "\n",
        "At the end of the description, include every 7-character\n",
        "Product ID in the technical specification.\n",
        "\n",
        "Use at most 50 words.\n",
        "\n",
        "Technical specifications: ```{fact_sheet_chair}```\n",
        "\"\"\"\n",
        "response = get_completion(prompt)\n",
        "print(response)"
      ],
      "metadata": {
        "colab": {
          "base_uri": "https://localhost:8080/"
        },
        "id": "PKFf4NUNaTTq",
        "outputId": "f9be8ccb-86f8-4c10-acf8-f86bb1937825"
      },
      "execution_count": 13,
      "outputs": [
        {
          "output_type": "stream",
          "name": "stdout",
          "text": [
            "Introducing our versatile and stylish office chair, part of a mid-century inspired furniture collection. Choose from a variety of shell colors and base finishes to suit your space. Constructed with a durable aluminum base and high-density foam seat for comfort. Perfect for home or business use. \n",
            "\n",
            "Product IDs: SWC-100, SWC-110\n"
          ]
        }
      ]
    },
    {
      "cell_type": "code",
      "source": [
        "# modify response of +1k chars split into a more read friendly print out with new row after every n char.\n",
        "\n",
        "index = 100\n",
        "while index < len(response):\n",
        "  response = response[:index] + \"\\n\" + response[index:]\n",
        "  index += 101 # Add 101 to account for the newline character\n",
        "print(response)"
      ],
      "metadata": {
        "colab": {
          "base_uri": "https://localhost:8080/"
        },
        "id": "u0rJugX-aIOC",
        "outputId": "9140edab-1633-467b-d8c3-44835f65ab5e"
      },
      "execution_count": 14,
      "outputs": [
        {
          "output_type": "stream",
          "name": "stdout",
          "text": [
            "Introducing our versatile and stylish office chair, part of a mid-century inspired furniture collect\n",
            "ion. Choose from a variety of shell colors and base finishes to suit your space. Constructed with a \n",
            "durable aluminum base and high-density foam seat for comfort. Perfect for home or business use. \n",
            "\n",
            "Pr\n",
            "oduct IDs: SWC-100, SWC-110\n"
          ]
        }
      ]
    },
    {
      "cell_type": "markdown",
      "source": [
        "**Issue 3: Description needs a table of dimensions**    \n",
        "Ask model to extract info and organize it in a table"
      ],
      "metadata": {
        "id": "Qwa7l9kZaorq"
      }
    },
    {
      "cell_type": "code",
      "source": [
        "prompt = f\"\"\"\n",
        "Your task is to help a marketing team create a\n",
        "description for a retail website of a product based\n",
        "on a technical fact sheet.\n",
        "\n",
        "Write a product description based on the information\n",
        "provided in the technical specifications delimited by\n",
        "triple backticks.\n",
        "\n",
        "The description is intended for furniture retailers,\n",
        "so should be technical in nature and focus on the\n",
        "materials the product is constructed from.\n",
        "\n",
        "At the end of the description, include every 7-character\n",
        "Product ID in the technical specification.\n",
        "\n",
        "After the description, include a table that gives the\n",
        "product's dimensions. The table should have two columns.\n",
        "In the first column include the name of the dimension.\n",
        "In the second column include the measurements in inches only.\n",
        "\n",
        "Give the table the title 'Product Dimensions'.\n",
        "\n",
        "Format everything as HTML that can be used in a website.\n",
        "Place the description in a <div> element.\n",
        "\n",
        "Technical specifications: ```{fact_sheet_chair}```\n",
        "\"\"\"\n",
        "\n",
        "response = get_completion(prompt)\n",
        "print(response)"
      ],
      "metadata": {
        "colab": {
          "base_uri": "https://localhost:8080/"
        },
        "id": "6xac1H-8acty",
        "outputId": "5a4a960e-2e3b-4c5b-d911-a53ac6187a57"
      },
      "execution_count": 15,
      "outputs": [
        {
          "output_type": "stream",
          "name": "stdout",
          "text": [
            "<div>\n",
            "<p>Introducing our latest addition to the mid-century inspired office furniture collection - the versatile and stylish office chair. This chair is designed to elevate any workspace, whether it be at home or in a professional setting. With a variety of shell colors and base finishes to choose from, you can customize this chair to fit your unique style.</p>\n",
            "\n",
            "<p>The construction of this chair is top-notch, featuring a 5-wheel plastic coated aluminum base for stability and mobility. The pneumatic chair adjust allows for easy raise and lower action, ensuring maximum comfort throughout the day.</p>\n",
            "\n",
            "<p>Constructed with high-quality materials, the shell base glider is made of cast aluminum with a modified nylon PA6/PA66 coating, providing durability and a sleek look. The seat is filled with HD36 foam, offering both support and comfort for long hours of sitting.</p>\n",
            "\n",
            "<p>Available in various upholstery options, including plastic back and front upholstery or full upholstery in fabric or leather, this chair is truly customizable to suit your preferences. Choose from different base finishes such as stainless steel, matte black, gloss white, or chrome, and opt for armrests or go armless for a minimalist look.</p>\n",
            "\n",
            "<p>Enhance your workspace with this stylish and functional office chair that is not only aesthetically pleasing but also built to last. Bring a touch of Italian craftsmanship into your office with this premium piece of furniture.</p>\n",
            "\n",
            "<p>Product IDs: SWC-100, SWC-110</p>\n",
            "</div>\n",
            "\n",
            "<table>\n",
            "  <caption>Product Dimensions</caption>\n",
            "  <tr>\n",
            "    <th>WIDTH</th>\n",
            "    <td>20.87\"</td>\n",
            "  </tr>\n",
            "  <tr>\n",
            "    <th>DEPTH</th>\n",
            "    <td>20.08\"</td>\n",
            "  </tr>\n",
            "  <tr>\n",
            "    <th>HEIGHT</th>\n",
            "    <td>31.50\"</td>\n",
            "  </tr>\n",
            "  <tr>\n",
            "    <th>SEAT HEIGHT</th>\n",
            "    <td>17.32\"</td>\n",
            "  </tr>\n",
            "  <tr>\n",
            "    <th>SEAT DEPTH</th>\n",
            "    <td>16.14\"</td>\n",
            "  </tr>\n",
            "</table>\n"
          ]
        }
      ]
    },
    {
      "cell_type": "markdown",
      "source": [
        "**Load py libraries to view HTML**"
      ],
      "metadata": {
        "id": "HggPj043a0ay"
      }
    },
    {
      "cell_type": "code",
      "source": [
        "from IPython.display import display, HTML"
      ],
      "metadata": {
        "id": "Fy2IFPblayt6"
      },
      "execution_count": 16,
      "outputs": []
    },
    {
      "cell_type": "code",
      "source": [
        "display(HTML(response))"
      ],
      "metadata": {
        "colab": {
          "base_uri": "https://localhost:8080/",
          "height": 376
        },
        "id": "ggq4g6-Ea_-C",
        "outputId": "b540ccc4-0fe6-4587-9f8e-156b670660e3"
      },
      "execution_count": 17,
      "outputs": [
        {
          "output_type": "display_data",
          "data": {
            "text/plain": [
              "<IPython.core.display.HTML object>"
            ],
            "text/html": [
              "<div>\n",
              "<p>Introducing our latest addition to the mid-century inspired office furniture collection - the versatile and stylish office chair. This chair is designed to elevate any workspace, whether it be at home or in a professional setting. With a variety of shell colors and base finishes to choose from, you can customize this chair to fit your unique style.</p>\n",
              "\n",
              "<p>The construction of this chair is top-notch, featuring a 5-wheel plastic coated aluminum base for stability and mobility. The pneumatic chair adjust allows for easy raise and lower action, ensuring maximum comfort throughout the day.</p>\n",
              "\n",
              "<p>Constructed with high-quality materials, the shell base glider is made of cast aluminum with a modified nylon PA6/PA66 coating, providing durability and a sleek look. The seat is filled with HD36 foam, offering both support and comfort for long hours of sitting.</p>\n",
              "\n",
              "<p>Available in various upholstery options, including plastic back and front upholstery or full upholstery in fabric or leather, this chair is truly customizable to suit your preferences. Choose from different base finishes such as stainless steel, matte black, gloss white, or chrome, and opt for armrests or go armless for a minimalist look.</p>\n",
              "\n",
              "<p>Enhance your workspace with this stylish and functional office chair that is not only aesthetically pleasing but also built to last. Bring a touch of Italian craftsmanship into your office with this premium piece of furniture.</p>\n",
              "\n",
              "<p>Product IDs: SWC-100, SWC-110</p>\n",
              "</div>\n",
              "\n",
              "<table>\n",
              "  <caption>Product Dimensions</caption>\n",
              "  <tr>\n",
              "    <th>WIDTH</th>\n",
              "    <td>20.87\"</td>\n",
              "  </tr>\n",
              "  <tr>\n",
              "    <th>DEPTH</th>\n",
              "    <td>20.08\"</td>\n",
              "  </tr>\n",
              "  <tr>\n",
              "    <th>HEIGHT</th>\n",
              "    <td>31.50\"</td>\n",
              "  </tr>\n",
              "  <tr>\n",
              "    <th>SEAT HEIGHT</th>\n",
              "    <td>17.32\"</td>\n",
              "  </tr>\n",
              "  <tr>\n",
              "    <th>SEAT DEPTH</th>\n",
              "    <td>16.14\"</td>\n",
              "  </tr>\n",
              "</table>"
            ]
          },
          "metadata": {}
        }
      ]
    }
  ]
}